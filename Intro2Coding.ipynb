{
  "nbformat": 4,
  "nbformat_minor": 0,
  "metadata": {
    "colab": {
      "provenance": [],
      "authorship_tag": "ABX9TyPhJRWDYV0QzKe1NhxyVB4v",
      "include_colab_link": true
    },
    "kernelspec": {
      "name": "python3",
      "display_name": "Python 3"
    },
    "language_info": {
      "name": "python"
    }
  },
  "cells": [
    {
      "cell_type": "markdown",
      "metadata": {
        "id": "view-in-github",
        "colab_type": "text"
      },
      "source": [
        "<a href=\"https://colab.research.google.com/github/cechlauren/PITCH2024/blob/main/Intro2Coding.ipynb\" target=\"_parent\"><img src=\"https://colab.research.google.com/assets/colab-badge.svg\" alt=\"Open In Colab\"/></a>"
      ]
    },
    {
      "cell_type": "markdown",
      "source": [
        "# VARIABLES\n",
        "Variables help us store data or information"
      ],
      "metadata": {
        "id": "WNxW1Z7YfRz8"
      }
    },
    {
      "cell_type": "code",
      "execution_count": null,
      "metadata": {
        "id": "M2iP7qHGeOwD"
      },
      "outputs": [],
      "source": [
        "disease = \"Diabetes\"\n",
        "name = \"Juan\"\n",
        "age = 25\n",
        "print(disease)"
      ]
    },
    {
      "cell_type": "code",
      "source": [],
      "metadata": {
        "id": "FE9nylG7fFiN"
      },
      "execution_count": null,
      "outputs": []
    },
    {
      "cell_type": "markdown",
      "source": [
        "# DATA TYPES\n",
        "Common data types include integers, floats, strings, and lists.\n",
        "Let's store each of these data types in a variable. Give me some examples."
      ],
      "metadata": {
        "id": "0MVBuFOLfhCm"
      }
    },
    {
      "cell_type": "code",
      "source": [
        "glucose_level ="
      ],
      "metadata": {
        "id": "1Z4yI4aSfy2L"
      },
      "execution_count": null,
      "outputs": []
    },
    {
      "cell_type": "markdown",
      "source": [
        "# BASIC ARITHMETIC OPERATIONS\n",
        "Some basic operations include:\n",
        "\n",
        "*   addition\n",
        "*   subtraction\n",
        "*   multiplication\n",
        "* division\n",
        "\n",
        "\n",
        "\n"
      ],
      "metadata": {
        "id": "yCfPefgBf35b"
      }
    },
    {
      "cell_type": "code",
      "source": [
        "a =\n",
        "b =\n",
        "print (a + b)"
      ],
      "metadata": {
        "id": "El18pFbygRPF"
      },
      "execution_count": null,
      "outputs": []
    },
    {
      "cell_type": "markdown",
      "source": [
        "#APPLIED KNOWLEDGE EXERCISE"
      ],
      "metadata": {
        "id": "_1tHsG9zgZn8"
      }
    },
    {
      "cell_type": "markdown",
      "source": [
        "# CONTROL STRUCTURES - IF STATEMENTS\n",
        "Conditional logic is important to creating order in our code. We use something called if-else statements to do this. Look up what this means and explain it to me in your own words."
      ],
      "metadata": {
        "id": "fYgYjq9tgg3j"
      }
    },
    {
      "cell_type": "code",
      "source": [
        "glucose_level = 150\n",
        "if glucose_level > 140:\n",
        "  print(\"High glucose level\")\n",
        "else:\n",
        "  print(\"Normal glucose level\")"
      ],
      "metadata": {
        "id": "3cAWwjUsgfs3"
      },
      "execution_count": null,
      "outputs": []
    },
    {
      "cell_type": "markdown",
      "source": [
        "# CONTROL STRUCTURES - LOOPS\n",
        "We use loops to iterate over lists or large datasets.\n",
        "Very useful for automation."
      ],
      "metadata": {
        "id": "c390ePLWhB37"
      }
    },
    {
      "cell_type": "code",
      "source": [
        "glucose_readings = [110, 140, 135, 145]\n",
        "for reading in glucose_readings:\n",
        "  print(reading)"
      ],
      "metadata": {
        "id": "Mtcf8n_mhNPE"
      },
      "execution_count": null,
      "outputs": []
    },
    {
      "cell_type": "markdown",
      "source": [
        "# MINI PROJECT\n",
        "Let's analyze a small diabetes dataset. We will calculate and interpret basic statistics.\n",
        "Steps:\n",
        "\n",
        "\n",
        "1.   load dataset\n",
        "2.   calculate average glucose levels\n",
        "3. identify high glucose readings\n",
        "\n"
      ],
      "metadata": {
        "id": "m-Dby6C9hXLt"
      }
    },
    {
      "cell_type": "code",
      "source": [
        "glucose_readings = [110, 140, 135, 145, 160, 180]\n",
        "average_glucose = (sum(glucose_readings)/ INSERT YOUR CODE HERE)\n",
        "print(\"Average glucose level:\", average_glucose)\n",
        "\n",
        "high_glucose_readings []\n",
        "for reading in glucose_readings:\n",
        "  if reading > 140:\n",
        "    high_glucose_readings.append(reading)\n",
        "print(\"High glucose readings:\", INSERT HERE)\n",
        "\n"
      ],
      "metadata": {
        "id": "pmuJ9sT-hrnT"
      },
      "execution_count": null,
      "outputs": []
    }
  ]
}